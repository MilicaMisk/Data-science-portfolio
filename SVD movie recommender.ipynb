{
 "cells": [
  {
   "cell_type": "markdown",
   "metadata": {
    "collapsed": true
   },
   "source": [
    "LAB 2 - Milica miskovic\n",
    "\n",
    "First, let us import all packages"
   ]
  },
  {
   "cell_type": "code",
   "execution_count": null,
   "metadata": {},
   "outputs": [
    {
     "ename": "ModuleNotFoundError",
     "evalue": "No module named 'matplotlib'",
     "traceback": [
      "\u001b[1;31m---------------------------------------------------------------------------\u001b[0m",
      "\u001b[1;31mModuleNotFoundError\u001b[0m                       Traceback (most recent call last)",
      "\u001b[1;32m<ipython-input-168-685bd26b9fdf>\u001b[0m in \u001b[0;36m<module>\u001b[1;34m\u001b[0m\n\u001b[0;32m      2\u001b[0m \u001b[1;32mfrom\u001b[0m \u001b[0msklearn\u001b[0m\u001b[1;33m.\u001b[0m\u001b[0mpreprocessing\u001b[0m \u001b[1;32mimport\u001b[0m \u001b[0mStandardScaler\u001b[0m\u001b[1;33m\u001b[0m\u001b[0m\n\u001b[0;32m      3\u001b[0m \u001b[1;32mimport\u001b[0m \u001b[0mnumpy\u001b[0m \u001b[1;32mas\u001b[0m \u001b[0mnp\u001b[0m\u001b[1;33m\u001b[0m\u001b[0m\n\u001b[1;32m----> 4\u001b[1;33m \u001b[1;32mimport\u001b[0m \u001b[0mmatplotlib\u001b[0m \u001b[1;32mas\u001b[0m \u001b[0mplt\u001b[0m\u001b[1;33m\u001b[0m\u001b[0m\n\u001b[0m",
      "\u001b[1;31mModuleNotFoundError\u001b[0m: No module named 'matplotlib'"
     ],
     "output_type": "error"
    }
   ],
   "source": [
    "import pandas as pd\n",
    "from sklearn.preprocessing import StandardScaler\n",
    "import numpy as np\n",
    "import matplotlib as plt"
   ]
  },
  {
   "cell_type": "markdown",
   "metadata": {},
   "source": [
    "Then we read the data file into data frame"
   ]
  },
  {
   "cell_type": "code",
   "execution_count": 7,
   "metadata": {},
   "outputs": [
    {
     "name": "stdout",
     "output_type": "stream",
     "text": [
      "   UserID  MovieID  Rating\n",
      "0       1     1193       5\n",
      "1       1      661       3\n",
      "2       1      914       3\n",
      "3       1     3408       4\n",
      "4       1     2355       5\n"
     ]
    }
   ],
   "source": [
    "ratings = pd.read_csv('ratings.dat', sep=\"::\", header=None, engine='python')\n",
    "ratings.columns = ['UserID', 'MovieID', 'Rating', 'Timestamp']\n",
    "ratings.drop(['Timestamp'], axis=1, inplace=True)\n",
    "print(ratings[:5])"
   ]
  },
  {
   "cell_type": "markdown",
   "metadata": {},
   "source": [
    "1. Create m x u matrix with movies as row and users as column"
   ]
  },
  {
   "cell_type": "code",
   "execution_count": 160,
   "metadata": {},
   "outputs": [
    {
     "name": "stdout",
     "output_type": "stream",
     "text": [
      "UserID    1   2   3   4    5    6    7    8    9    10\n",
      "MovieID                                               \n",
      "1        5.0 NaN NaN NaN  NaN  4.0  NaN  4.0  5.0  5.0\n",
      "2        NaN NaN NaN NaN  NaN  NaN  NaN  NaN  NaN  5.0\n",
      "3        NaN NaN NaN NaN  NaN  NaN  NaN  NaN  NaN  NaN\n",
      "4        NaN NaN NaN NaN  NaN  NaN  NaN  3.0  NaN  NaN\n",
      "5        NaN NaN NaN NaN  NaN  NaN  NaN  NaN  NaN  NaN\n",
      "6        NaN NaN NaN NaN  2.0  NaN  4.0  NaN  NaN  NaN\n",
      "7        NaN NaN NaN NaN  NaN  NaN  NaN  NaN  NaN  4.0\n",
      "8        NaN NaN NaN NaN  NaN  NaN  NaN  NaN  NaN  NaN\n",
      "9        NaN NaN NaN NaN  NaN  NaN  NaN  NaN  NaN  NaN\n",
      "10       NaN NaN NaN NaN  NaN  NaN  NaN  NaN  NaN  NaN\n"
     ]
    }
   ],
   "source": [
    "ratings_pivot = ratings.pivot_table('Rating', index='MovieID', columns='UserID')\n",
    "print(ratings_pivot.iloc[0:10, 0:10])"
   ]
  },
  {
   "cell_type": "markdown",
   "metadata": {},
   "source": [
    "2. Normalize the matrix (we have to fill NaNs with 0 first, and call it matrix a)"
   ]
  },
  {
   "cell_type": "code",
   "execution_count": 161,
   "metadata": {},
   "outputs": [
    {
     "name": "stdout",
     "output_type": "stream",
     "text": [
      "(3706, 6040)\n"
     ]
    }
   ],
   "source": [
    "ratings_pivot.fillna(value=0, inplace=True)\n",
    "a = StandardScaler().fit_transform(ratings_pivot)\n",
    "print(a.shape)\n"
   ]
  },
  {
   "cell_type": "markdown",
   "metadata": {},
   "source": [
    "3. Compute SVD to get U, S and V"
   ]
  },
  {
   "cell_type": "code",
   "execution_count": 57,
   "metadata": {},
   "outputs": [],
   "source": [
    "U, Sigma, V = np.linalg.svd(a)"
   ]
  },
  {
   "cell_type": "markdown",
   "metadata": {},
   "source": [
    "4. From your V.T select 50 components (we have to reduce the other two matrices too, in order to SVD dim reduct)"
   ]
  },
  {
   "cell_type": "code",
   "execution_count": 87,
   "metadata": {},
   "outputs": [],
   "source": [
    "U = U[:,:50]\n",
    "S = np.diag(Sigma[0:50])\n",
    "V = V[:50]\n"
   ]
  },
  {
   "cell_type": "markdown",
   "metadata": {},
   "source": [
    "Shape of U ,S and V after reduction: "
   ]
  },
  {
   "cell_type": "code",
   "execution_count": 88,
   "metadata": {},
   "outputs": [
    {
     "name": "stdout",
     "output_type": "stream",
     "text": [
      "(3706, 50)\n",
      "(50, 50)\n",
      "(50, 6040)\n"
     ]
    }
   ],
   "source": [
    "print(U.shape)\n",
    "print(S.shape)\n",
    "print(V.shape)"
   ]
  },
  {
   "cell_type": "markdown",
   "metadata": {},
   "source": [
    "New, reduced matrix a we can recover by multiplying U ,S and V after reduction: "
   ]
  },
  {
   "cell_type": "code",
   "execution_count": 143,
   "metadata": {},
   "outputs": [
    {
     "name": "stdout",
     "output_type": "stream",
     "text": [
      "(3706, 6040)\n"
     ]
    }
   ],
   "source": [
    "a_reduced = U.dot(S).dot(V)\n",
    "print(a_reduced.shape)"
   ]
  },
  {
   "cell_type": "markdown",
   "metadata": {},
   "source": [
    "In order to have movie names, we have to import movies.dat file."
   ]
  },
  {
   "cell_type": "code",
   "execution_count": 123,
   "metadata": {},
   "outputs": [
    {
     "name": "stdout",
     "output_type": "stream",
     "text": [
      "   MovieID                               Title\n",
      "0        1                    Toy Story (1995)\n",
      "1        2                      Jumanji (1995)\n",
      "2        3             Grumpier Old Men (1995)\n",
      "3        4            Waiting to Exhale (1995)\n",
      "4        5  Father of the Bride Part II (1995)\n"
     ]
    }
   ],
   "source": [
    "movies = pd.read_csv('movies.dat', sep=\"::\", header=None, engine='python')\n",
    "movies.columns = ['MovieID', 'Title', 'Genres']\n",
    "movies.drop(['Genres'], axis=1, inplace=True)\n",
    "print(movies[:5])"
   ]
  },
  {
   "cell_type": "code",
   "execution_count": 144,
   "metadata": {},
   "outputs": [
    {
     "data": {
      "text/plain": [
       "'Jumanji (1995)'"
      ]
     },
     "execution_count": 144,
     "metadata": {},
     "output_type": "execute_result"
    }
   ],
   "source": [
    "movies.loc[1, 'Title']"
   ]
  },
  {
   "cell_type": "markdown",
   "metadata": {},
   "source": [
    "The function:"
   ]
  },
  {
   "cell_type": "code",
   "execution_count": 155,
   "metadata": {},
   "outputs": [],
   "source": [
    "def recommend(movie_id):\n",
    "    if movie_id > 0 and movie_id <= a_reduced.shape[0]:\n",
    "        \n",
    "        cos = np.zeros(a_reduced.shape[0])\n",
    "        for i in range(0, a_reduced.shape[0]):\n",
    "            a = np.dot(a_reduced[movie_id-1], a_reduced[i])\n",
    "            b = np.linalg.norm(a_reduced[movie_id-1]) * np.linalg.norm(a_reduced[i])\n",
    "            cos[i] = a/b\n",
    "        order = np.argsort(cos)\n",
    "        ten_most_similar = movies.loc[order[:10], 'Title']\n",
    "    else:\n",
    "        print('Invalid movie ID.')\n",
    "    return(ten_most_similar)"
   ]
  },
  {
   "cell_type": "markdown",
   "metadata": {},
   "source": [
    "Let us try with movie ID 2, 'Jumanji (1995)':"
   ]
  },
  {
   "cell_type": "code",
   "execution_count": 156,
   "metadata": {},
   "outputs": [
    {
     "name": "stdout",
     "output_type": "stream",
     "text": [
      "[-0.29592026 -0.29409393 -0.29377709 ...  0.90664469  0.96011212\n",
      "  1.        ]\n",
      "[  51 2723  569 ...   58 3256    1]\n"
     ]
    },
    {
     "data": {
      "text/plain": [
       "51                                Mighty Aphrodite (1995)\n",
       "2723                       Airplane II: The Sequel (1982)\n",
       "569     Ciao, Professore! (Io speriamo che me la cavo ...\n",
       "2491                                      Ravenous (1999)\n",
       "1086                               American Strays (1996)\n",
       "1359                                        Grease (1978)\n",
       "392                                      Fall Time (1995)\n",
       "1077                                    Doors, The (1991)\n",
       "807                           Very Brady Sequel, A (1996)\n",
       "1948                              Babes in Toyland (1961)\n",
       "Name: Title, dtype: object"
      ]
     },
     "execution_count": 156,
     "metadata": {},
     "output_type": "execute_result"
    }
   ],
   "source": [
    "recommend(2)"
   ]
  },
  {
   "cell_type": "markdown",
   "metadata": {},
   "source": [
    "6. Repeat the same process except now instead of using SVD you will use PCA to get the eigenvectors.\n",
    "7. You will require co-variance matrix as an input to your eig function.\n",
    "\n",
    "Matrix a is already standardized and NaNs are filled with 0. "
   ]
  },
  {
   "cell_type": "markdown",
   "metadata": {},
   "source": [
    "Eigenvectors and eigenvalues:"
   ]
  },
  {
   "cell_type": "code",
   "execution_count": null,
   "metadata": {},
   "outputs": [
    {
     "ename": "NameError",
     "evalue": "name 'plt' is not defined",
     "traceback": [
      "\u001b[1;31m---------------------------------------------------------------------------\u001b[0m",
      "\u001b[1;31mNameError\u001b[0m                                 Traceback (most recent call last)",
      "\u001b[1;32m<ipython-input-167-eed69862cc79>\u001b[0m in \u001b[0;36m<module>\u001b[1;34m\u001b[0m\n\u001b[0;32m      1\u001b[0m \u001b[0mcov_mat\u001b[0m \u001b[1;33m=\u001b[0m \u001b[0mnp\u001b[0m\u001b[1;33m.\u001b[0m\u001b[0mcov\u001b[0m\u001b[1;33m(\u001b[0m\u001b[0ma\u001b[0m\u001b[1;33m)\u001b[0m\u001b[1;33m\u001b[0m\u001b[0m\n\u001b[0;32m      2\u001b[0m \u001b[1;33m\u001b[0m\u001b[0m\n\u001b[1;32m----> 3\u001b[1;33m \u001b[0mfig\u001b[0m\u001b[1;33m,\u001b[0m \u001b[0max\u001b[0m \u001b[1;33m=\u001b[0m \u001b[0mplt\u001b[0m\u001b[1;33m.\u001b[0m\u001b[0msubplots\u001b[0m\u001b[1;33m(\u001b[0m\u001b[1;33m)\u001b[0m\u001b[1;33m\u001b[0m\u001b[0m\n\u001b[0m\u001b[0;32m      4\u001b[0m \u001b[0mcax\u001b[0m \u001b[1;33m=\u001b[0m \u001b[0max\u001b[0m\u001b[1;33m.\u001b[0m\u001b[0mmatshow\u001b[0m\u001b[1;33m(\u001b[0m\u001b[0mcov_mat\u001b[0m\u001b[1;33m)\u001b[0m\u001b[1;33m\u001b[0m\u001b[0m\n\u001b[0;32m      5\u001b[0m \u001b[0mfig\u001b[0m\u001b[1;33m.\u001b[0m\u001b[0mcolorbar\u001b[0m\u001b[1;33m(\u001b[0m\u001b[0mcax\u001b[0m\u001b[1;33m,\u001b[0m \u001b[0mticks\u001b[0m\u001b[1;33m=\u001b[0m\u001b[1;33m[\u001b[0m\u001b[1;36m0\u001b[0m\u001b[1;33m,\u001b[0m \u001b[1;36m1\u001b[0m\u001b[1;33m]\u001b[0m\u001b[1;33m)\u001b[0m\u001b[1;33m\u001b[0m\u001b[0m\n",
      "\u001b[1;31mNameError\u001b[0m: name 'plt' is not defined"
     ],
     "output_type": "error"
    }
   ],
   "source": [
    "cov_mat = np.cov(a)\n",
    "\n",
    "fig, ax = plt.subplots()\n",
    "cax = ax.matshow(cov_mat)\n",
    "fig.colorbar(cax, ticks=[0, 1])\n",
    "plt.xticks(range(len(cov_mat.columns)), cov_mat.columns, rotation='vertical')\n",
    "plt.yticks(range(len(cov_mat.columns)), cov_mat.columns)\n",
    "plt.show()\n"
   ]
  },
  {
   "cell_type": "code",
   "execution_count": null,
   "metadata": {},
   "outputs": [],
   "source": [
    "eig_val, eig_vec = np.linalg.eig(cov_mat)\n",
    "print('Eigenvectors \\n%s' %eig_vecs)\n",
    "print('\\nEigenvalues \\n%s' %eig_vals)"
   ]
  }
 ],
 "metadata": {
  "kernelspec": {
   "display_name": "Python 3",
   "language": "python",
   "name": "python3"
  },
  "language_info": {
   "codemirror_mode": {
    "name": "ipython",
    "version": 3
   },
   "file_extension": ".py",
   "mimetype": "text/x-python",
   "name": "python",
   "nbconvert_exporter": "python",
   "pygments_lexer": "ipython3",
   "version": "3.7.0"
  }
 },
 "nbformat": 4,
 "nbformat_minor": 1
}
